{
 "cells": [
  {
   "cell_type": "markdown",
   "id": "56eadaf5-131b-48a4-8ade-a6318d6bf18c",
   "metadata": {},
   "source": [
    "## Numpy array and basics"
   ]
  },
  {
   "cell_type": "code",
   "execution_count": 1,
   "id": "f6ae8866-6a3c-4184-8dc9-e970ed340c3f",
   "metadata": {},
   "outputs": [
    {
     "name": "stdout",
     "output_type": "stream",
     "text": [
      "Requirement already satisfied: numpy in /Library/Frameworks/Python.framework/Versions/3.12/lib/python3.12/site-packages (1.26.4)\n",
      "\n",
      "\u001b[1m[\u001b[0m\u001b[34;49mnotice\u001b[0m\u001b[1;39;49m]\u001b[0m\u001b[39;49m A new release of pip is available: \u001b[0m\u001b[31;49m25.0\u001b[0m\u001b[39;49m -> \u001b[0m\u001b[32;49m25.0.1\u001b[0m\n",
      "\u001b[1m[\u001b[0m\u001b[34;49mnotice\u001b[0m\u001b[1;39;49m]\u001b[0m\u001b[39;49m To update, run: \u001b[0m\u001b[32;49mpip install --upgrade pip\u001b[0m\n",
      "Note: you may need to restart the kernel to use updated packages.\n"
     ]
    }
   ],
   "source": [
    "pip install numpy "
   ]
  },
  {
   "cell_type": "code",
   "execution_count": 3,
   "id": "d2a73cac-ea36-481d-b26b-2ec17f31e9fe",
   "metadata": {},
   "outputs": [],
   "source": [
    "import numpy as np"
   ]
  },
  {
   "cell_type": "markdown",
   "id": "4ff8b77d-33a3-4b65-b089-4153908934df",
   "metadata": {},
   "source": [
    "### Array properties"
   ]
  },
  {
   "cell_type": "code",
   "execution_count": 44,
   "id": "eaf5f023-8736-4d79-a440-33848bda5ad3",
   "metadata": {},
   "outputs": [
    {
     "name": "stdout",
     "output_type": "stream",
     "text": [
      "[1 2 3 4]\n",
      "Array Diamesion: 1\n",
      "Array Shape: (4,)\n",
      "Array Size mean how many element are containing in array : 4\n",
      "Data type: int64\n",
      "Each Item or Element Size: 8\n",
      "total size of Array: 32\n",
      "Tanspose of Array: [1 2 3 4]\n"
     ]
    }
   ],
   "source": [
    "array = np.array([1, 2, 3, 4])\n",
    "print(array)\n",
    "\n",
    "print(\"Array Diamesion:\", array.ndim)\n",
    "print(\"Array Shape:\", array.shape)\n",
    "print(\"Array Size mean how many element are containing in array :\", array.size)\n",
    "print(\"Data type:\", array.dtype)\n",
    "print(\"Each Item or Element Size:\", array.itemsize)\n",
    "print(\"total size of Array:\", array.nbytes)\n",
    "print(\"Tanspose of Array:\", array.T)\n",
    "\n"
   ]
  },
  {
   "cell_type": "code",
   "execution_count": 63,
   "id": "9c1a2d2e-2567-4ccc-a4c6-73a39ec207b4",
   "metadata": {},
   "outputs": [
    {
     "name": "stdout",
     "output_type": "stream",
     "text": [
      "[[ 3  5  5]\n",
      " [ 9 90  5]\n",
      " [ 6  0 57]]\n",
      "2\n",
      "(3, 3)\n",
      "9\n",
      "8\n",
      "72\n",
      "[[ 3  9  6]\n",
      " [ 5 90  0]\n",
      " [ 5  5 57]]\n",
      "int64\n"
     ]
    }
   ],
   "source": [
    "array = np.array([[3, 5, 5],\n",
    "                  [9, 90, 5],[6, 0, 57]])\n",
    "print (array)\n",
    "print(array.ndim)\n",
    "print(array.shape)\n",
    "print(array.size)\n",
    "print(array.itemsize)\n",
    "print(array.nbytes)\n",
    "print(array.T)\n",
    "print(array.dtype)"
   ]
  },
  {
   "cell_type": "code",
   "execution_count": 64,
   "id": "a41585db-6d77-46c2-9f27-14f73fb59799",
   "metadata": {},
   "outputs": [
    {
     "name": "stdout",
     "output_type": "stream",
     "text": [
      "[[4 8]\n",
      " [6 5]\n",
      " [7 7]]\n"
     ]
    }
   ],
   "source": [
    "#Transpose\n",
    "\n",
    "array = np.array([[4, 6, 7],[8, 5, 7]])\n",
    "print(array.T) "
   ]
  },
  {
   "cell_type": "markdown",
   "id": "e9a35e63-a0ea-41b6-9a89-0265a5edc43c",
   "metadata": {},
   "source": [
    "## Numpy Array Creation\n",
    "\n",
    "######   np.ones()\n",
    "\n",
    "######   np.linspace()"
   ]
  },
  {
   "cell_type": "markdown",
   "id": "8a52933e-d422-4137-ba8b-90085901afc6",
   "metadata": {},
   "source": [
    "### np.array()"
   ]
  },
  {
   "cell_type": "code",
   "execution_count": 68,
   "id": "dc838aa1-c0ce-468d-8bef-6db8088e6051",
   "metadata": {},
   "outputs": [
    {
     "name": "stdout",
     "output_type": "stream",
     "text": [
      "1D Array: [1 2 4 5 8]\n"
     ]
    }
   ],
   "source": [
    "arr_1d = np.array([1, 2, 4, 5, 8])\n",
    "\n",
    "print(\"1D Array:\",arr_1d)"
   ]
  },
  {
   "cell_type": "code",
   "execution_count": 79,
   "id": "79ced839-c3dd-4278-9e0a-3f3b9377c5bf",
   "metadata": {},
   "outputs": [
    {
     "name": "stdout",
     "output_type": "stream",
     "text": [
      "2D Aarray:\n",
      " [[3 5 5]\n",
      " [8 8 8]]\n"
     ]
    }
   ],
   "source": [
    "arr_2d = np.array([[3, 5, 5],\n",
    "                   [8, 8, 8]])\n",
    "\n",
    "print (\"2D Aarray:\\n\" , arr_2d)"
   ]
  },
  {
   "cell_type": "markdown",
   "id": "a7425efe-c4b0-44bd-b39f-f9d876d89d87",
   "metadata": {},
   "source": [
    "###  np.zeros()\n"
   ]
  },
  {
   "cell_type": "code",
   "execution_count": 93,
   "id": "b80a955e-39b6-4a7b-bc6d-5ab5bbaa5c5e",
   "metadata": {},
   "outputs": [
    {
     "name": "stdout",
     "output_type": "stream",
     "text": [
      "[[0. 0. 0. 0. 0. 0. 0.]\n",
      " [0. 0. 0. 0. 0. 0. 0.]\n",
      " [0. 0. 0. 0. 0. 0. 0.]\n",
      " [0. 0. 0. 0. 0. 0. 0.]\n",
      " [0. 0. 0. 0. 0. 0. 0.]\n",
      " [0. 0. 0. 0. 0. 0. 0.]\n",
      " [0. 0. 0. 0. 0. 0. 0.]]\n",
      "(7, 7)\n"
     ]
    }
   ],
   "source": [
    "zero_matrix = np.zeros((7, 7))\n",
    "\n",
    "print(zero_matrix)\n",
    "print (zero_matrix.shape)"
   ]
  },
  {
   "cell_type": "code",
   "execution_count": 91,
   "id": "78fbff61-40ca-40b2-ac43-bda34d89ef7f",
   "metadata": {},
   "outputs": [
    {
     "name": "stdout",
     "output_type": "stream",
     "text": [
      "[[0.]]\n",
      "(1, 1)\n"
     ]
    }
   ],
   "source": [
    "zero = np.zeros((1, 1))\n",
    "\n",
    "\n",
    "print (zero)\n",
    "print (zero.shape)"
   ]
  },
  {
   "cell_type": "code",
   "execution_count": null,
   "id": "2682b51b-9c9f-42b6-894c-979066cfa5df",
   "metadata": {},
   "outputs": [],
   "source": []
  },
  {
   "cell_type": "code",
   "execution_count": null,
   "id": "8c7cefdd-7fe8-4e7e-8295-8cc09cad4719",
   "metadata": {},
   "outputs": [],
   "source": []
  },
  {
   "cell_type": "code",
   "execution_count": null,
   "id": "8aabda0a-cf2e-4439-8c6b-fb04481b9d16",
   "metadata": {},
   "outputs": [],
   "source": []
  },
  {
   "cell_type": "code",
   "execution_count": null,
   "id": "fe0de021-c4b9-41ac-af77-50faee303958",
   "metadata": {},
   "outputs": [],
   "source": []
  },
  {
   "cell_type": "code",
   "execution_count": null,
   "id": "64a824c5-4b56-4ff3-9373-b8d4325fde21",
   "metadata": {},
   "outputs": [],
   "source": []
  },
  {
   "cell_type": "markdown",
   "id": "627233e5-f394-47a6-8ac3-0b262f02c540",
   "metadata": {},
   "source": [
    "### np.arange"
   ]
  },
  {
   "cell_type": "code",
   "execution_count": 82,
   "id": "9988453f-0cde-421b-8636-a4718dfd2d6e",
   "metadata": {},
   "outputs": [
    {
     "name": "stdout",
     "output_type": "stream",
     "text": [
      "[0 1 2 3 4 5 6 7 8 9]\n"
     ]
    }
   ],
   "source": [
    "array = np.arange(10)\n",
    "\n",
    "print (array)"
   ]
  },
  {
   "cell_type": "code",
   "execution_count": 84,
   "id": "e9c83dc9-d6b6-45ef-8235-01a35846f9fb",
   "metadata": {},
   "outputs": [
    {
     "name": "stdout",
     "output_type": "stream",
     "text": [
      "[ 0  3  6  9 12 15 18 21 24 27 30 33 36 39 42 45 48 51 54 57]\n"
     ]
    }
   ],
   "source": [
    "array = np.arange(0, 59 , 3)\n",
    "\n",
    "print (array)"
   ]
  },
  {
   "cell_type": "code",
   "execution_count": null,
   "id": "07de343a-ce25-4b94-bac0-6fff7cb09fdc",
   "metadata": {},
   "outputs": [],
   "source": []
  }
 ],
 "metadata": {
  "kernelspec": {
   "display_name": "Python 3 (ipykernel)",
   "language": "python",
   "name": "python3"
  },
  "language_info": {
   "codemirror_mode": {
    "name": "ipython",
    "version": 3
   },
   "file_extension": ".py",
   "mimetype": "text/x-python",
   "name": "python",
   "nbconvert_exporter": "python",
   "pygments_lexer": "ipython3",
   "version": "3.12.1"
  }
 },
 "nbformat": 4,
 "nbformat_minor": 5
}
